{
 "cells": [
  {
   "cell_type": "code",
   "execution_count": null,
   "metadata": {
    "vscode": {
     "languageId": "plaintext"
    }
   },
   "outputs": [],
   "source": [
    "from src.dataset import load_dog_breed_dataset\n",
    "from src.preprocessing import get_feature_extractor, preprocess_data\n",
    "from src.model import initialize_model\n",
    "from src.training import train_one_epoch, validate_model\n",
    "from torch.utils.data import DataLoader\n",
    "from configs.config import BATCH_SIZE, LEARNING_RATE, EPOCHS\n",
    "import torch\n",
    "\n",
    "# Load dataset\n",
    "dataset = load_dog_breed_dataset()\n",
    "feature_extractor = get_feature_extractor()\n",
    "dataset = preprocess_data(dataset, feature_extractor)\n",
    "\n",
    "# Create DataLoaders\n",
    "def collate_fn(batch):\n",
    "    pixel_values = torch.stack([item[\"pixel_values\"] for item in batch])\n",
    "    labels = torch.tensor([item[\"label\"] for item in batch])\n",
    "    return {\"pixel_values\": pixel_values, \"labels\": labels}\n",
    "\n",
    "train_dataloader = DataLoader(dataset['train'], batch_size=BATCH_SIZE, shuffle=True, collate_fn=collate_fn)\n",
    "val_dataloader = DataLoader(dataset['validation'], batch_size=BATCH_SIZE, shuffle=False, collate_fn=collate_fn)\n",
    "\n",
    "# Initialize model\n",
    "num_labels = len(dataset['train'].features['label'].names)\n",
    "model = initialize_model(num_labels)\n",
    "\n",
    "# Define optimizer and loss function\n",
    "optimizer = torch.optim.AdamW(model.parameters(), lr=LEARNING_RATE)\n",
    "loss_fn = torch.nn.CrossEntropyLoss()\n",
    "\n",
    "# Training loop\n",
    "device = torch.device(\"cuda\" if torch.cuda.is_available() else \"cpu\")\n",
    "for epoch in range(EPOCHS):\n",
    "    train_one_epoch(model, train_dataloader, optimizer, loss_fn, device)\n",
    "    accuracy = validate_model(model, val_dataloader, device)\n",
    "    print(f\"Epoch {epoch + 1}/{EPOCHS}, Validation Accuracy: {accuracy}\")\n",
    "\n",
    "# Save the model\n",
    "model.save_pretrained(\"./models/dog_breed_vit\")\n"
   ]
  }
 ],
 "metadata": {
  "language_info": {
   "name": "python"
  }
 },
 "nbformat": 4,
 "nbformat_minor": 2
}
